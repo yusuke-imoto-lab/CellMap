{
 "cells": [
  {
   "cell_type": "markdown",
   "id": "537d2e5f-2008-406e-8b7a-edd2c6a455ec",
   "metadata": {},
   "source": [
    "# CellMap for human bone marrow cell data\n",
    "\n",
    "The analysis example using human bone marrow cell data ([Setty et al. (2019)](https://doi.org/10.1242/dev.173849)). \n",
    "\n",
    "[RECODE](https://github.com/yusuke-imoto-lab/RECODE) and [UNitVelo](https://ui.adsabs.harvard.edu/link_gateway/2022NatCo..13.6586G/doi:10.1038/s41467-022-34188-7) are used for the noise reduction and velocity inference, respectively."
   ]
  },
  {
   "cell_type": "markdown",
   "id": "0cacc376-83b1-4998-a2c5-47a196ad7f3a",
   "metadata": {},
   "source": [
    "## Regular procedure"
   ]
  },
  {
   "cell_type": "code",
   "execution_count": 1,
   "id": "105a2f01-a54a-4023-bb30-02d6b44ee342",
   "metadata": {},
   "outputs": [],
   "source": [
    "import cellmap\n",
    "import anndata\n",
    "import matplotlib.pyplot as plt\n",
    "import numpy as np\n",
    "import scanpy"
   ]
  },
  {
   "cell_type": "markdown",
   "id": "16ad3d41-387f-470e-9cbf-c1815490bd96",
   "metadata": {},
   "source": [
    "The dataset is installed using the [scvelo](https://scvelo.readthedocs.io/en/stable/) package. "
   ]
  },
  {
   "cell_type": "code",
   "execution_count": 9,
   "id": "0388f5b6-c127-4ae7-a331-9bb022b8f2dd",
   "metadata": {
    "tags": []
   },
   "outputs": [
    {
     "data": {
      "text/plain": [
       "AnnData object with n_obs × n_vars = 5780 × 14319\n",
       "    obs: 'clusters', 'palantir_pseudotime'\n",
       "    uns: 'clusters_colors'\n",
       "    obsm: 'X_tsne'\n",
       "    layers: 'spliced', 'unspliced'"
      ]
     },
     "execution_count": 9,
     "metadata": {},
     "output_type": "execute_result"
    }
   ],
   "source": [
    "import scvelo as scv\n",
    "adata = scv.datasets.bonemarrow()\n",
    "adata"
   ]
  },
  {
   "cell_type": "markdown",
   "id": "df6272c4-c5fd-4a3b-acd7-2ad24e1b0a30",
   "metadata": {},
   "source": [
    "Noise reduction by [RECODE](https://github.com/yusuke-imoto-lab/RECODE)."
   ]
  },
  {
   "cell_type": "code",
   "execution_count": null,
   "id": "ffca64ea-583d-489a-a57d-698d94cd2814",
   "metadata": {},
   "outputs": [
    {
     "name": "stdout",
     "output_type": "stream",
     "text": [
      "start RECODE for scRNA-seq\n"
     ]
    }
   ],
   "source": [
    "import screcode\n",
    "recode = screcode.RECODE()\n",
    "adata = recode.fit_transform(adata)\n",
    "adata.obsm['RECODE_log'] = scanpy.pp.log1p(adata.obsm['RECODE'])\n",
    "recode.report()"
   ]
  },
  {
   "cell_type": "code",
   "execution_count": 11,
   "id": "5947ba0d-d5d8-4b2d-88c1-21fdc9ab3a93",
   "metadata": {},
   "outputs": [
    {
     "data": {
      "text/plain": [
       "array([[0.0000000000e+00, 1.7112445579e-03, 0.0000000000e+00, ...,\n",
       "        0.0000000000e+00, 7.5232679307e-01, 1.2980218535e-01],\n",
       "       [4.0880335843e-02, 0.0000000000e+00, 0.0000000000e+00, ...,\n",
       "        0.0000000000e+00, 3.0485631173e-01, 9.2875758302e-02],\n",
       "       [2.0096601080e-03, 4.3938891389e-04, 0.0000000000e+00, ...,\n",
       "        0.0000000000e+00, 2.2962659907e-01, 0.0000000000e+00],\n",
       "       ...,\n",
       "       [4.4000732537e-02, 0.0000000000e+00, 0.0000000000e+00, ...,\n",
       "        0.0000000000e+00, 8.5532921447e-01, 0.0000000000e+00],\n",
       "       [4.0377235170e-02, 0.0000000000e+00, 0.0000000000e+00, ...,\n",
       "        0.0000000000e+00, 1.1819125543e+00, 1.1344619398e-01],\n",
       "       [2.9025203357e-02, 2.9840457235e-04, 0.0000000000e+00, ...,\n",
       "        0.0000000000e+00, 8.3496159266e-01, 3.9188305329e-01]])"
      ]
     },
     "execution_count": 11,
     "metadata": {},
     "output_type": "execute_result"
    }
   ],
   "source": []
  },
  {
   "cell_type": "markdown",
   "id": "a50fe14c-b897-45fb-bb8f-18d8e2e32f36",
   "metadata": {},
   "source": [
    "Compute velocity by UnitVelo and show the stream on UMAP. "
   ]
  },
  {
   "cell_type": "code",
   "execution_count": 6,
   "id": "9a095d61-e971-44cd-bc0d-ca57d08432f4",
   "metadata": {},
   "outputs": [
    {
     "name": "stdout",
     "output_type": "stream",
     "text": [
      "------> Manully Specified Parameters <------\n",
      "R2_ADJUST:\tFalse\n",
      "VGENES:\toffset\n",
      "IROOT:\tHSC_1\n",
      "------> Model Configuration Settings <------\n",
      "N_TOP_GENES:\t2000\n",
      "LEARNING_RATE:\t0.01\n",
      "FIT_OPTION:\t1\n",
      "DENSITY:\tSVD\n",
      "REORDER_CELL:\tSoft_Reorder\n",
      "AGGREGATE_T:\tTrue\n",
      "GENE_PRIOR:\tNone\n",
      "--------------------------------------------\n",
      "\n",
      "Current working dir is /mnt/d/GitHub/CellMap/tutorial.\n",
      "Results will be stored in res folder\n",
      "Filtered out 7837 genes that are detected 20 counts (shared).\n",
      "Normalized count data: X, spliced, unspliced.\n",
      "Extracted 2000 highly variable genes.\n",
      "Logarithmized X.\n",
      "Extracted 2000 highly variable genes.\n",
      "Computing moments for 2000 genes with n_neighbors: 30 and n_pcs: 30\n",
      "computing neighbors\n",
      "    finished (0:00:07) --> added \n",
      "    'distances' and 'connectivities', weighted adjacency matrices (adata.obsp)\n",
      "computing moments based on connectivities\n",
      "    finished (0:00:00) --> added \n",
      "    'Ms' and 'Mu', moments of un/spliced abundances (adata.layers)\n",
      "\n",
      "# of velocity genes 1382 (Criterion: positive regression coefficient between un/spliced counts)\n",
      "# of velocity genes 1203 (Criterion: std of un/spliced reads should be moderate, w/o extreme values)\n",
      "# of velocity genes 1201 (Criterion: genes have reads in more than 5% of total cells)\n",
      "No GPU device has been detected. Switch to CPU mode.\n",
      "Use diffusion pseudotime as initial.\n"
     ]
    },
    {
     "name": "stderr",
     "output_type": "stream",
     "text": [
      "Loss (Total): 4508.688, (Spliced): 2273.289, (Unspliced): 2235.399:  70%|█████▌  | 8435/12000 [1:02:15<26:18,  2.26it/s]\n",
      "\n",
      "KeyboardInterrupt\n",
      "\n"
     ]
    }
   ],
   "source": [
    "import unitvelo as utv\n",
    "\n",
    "velo_config = utv.config.Configuration()\n",
    "velo_config.VGENES = 'offset'\n",
    "velo_config.R2_ADJUST = False\n",
    "velo_config.IROOT = 'HSC_1'\n",
    "velo_config.FIT_OPTION = '1'\n",
    "adata = utv.run_model(adata,label = 'clusters', config_file=velo_config)"
   ]
  },
  {
   "cell_type": "code",
   "execution_count": null,
   "id": "7c0068a6-f696-4be8-8df0-a1cd91504996",
   "metadata": {},
   "outputs": [],
   "source": [
    "scv.pl.velocity_embedding_stream(adata)"
   ]
  },
  {
   "cell_type": "code",
   "execution_count": null,
   "id": "e2112408-1e3c-4667-962e-9369a98a1f7e",
   "metadata": {
    "tags": []
   },
   "outputs": [],
   "source": [
    "%%time\n",
    "import cellmap\n",
    "\n",
    "cellmap.Hodge_decomposition(adata, exp_2d_key='X_tsne', vel_2d_key='velocity_tsne', alpha=0.1)"
   ]
  },
  {
   "cell_type": "code",
   "execution_count": null,
   "id": "54d8d93d-2ec8-4428-91a2-587e64702208",
   "metadata": {},
   "outputs": [],
   "source": [
    "cellmap.view(adata, basis='X_tsne', show_graph = True, cluster_key='clusters', cmap='jet')"
   ]
  },
  {
   "cell_type": "code",
   "execution_count": null,
   "id": "c384d37d-0184-4d27-aa7e-253c63ded3cb",
   "metadata": {},
   "outputs": [],
   "source": [
    "cellmap.view_cluster(adata, basis='X_tsne', show_graph=True, cluster_key='clusters', s=50,cmap='jet')"
   ]
  },
  {
   "cell_type": "code",
   "execution_count": null,
   "id": "c3e0f2e4-1938-4509-9d49-b14bbe6ab132",
   "metadata": {},
   "outputs": [],
   "source": [
    "cellmap.view_surface(adata, basis='X_tsne', cluster_key ='clusters',cmap='jet')"
   ]
  },
  {
   "cell_type": "code",
   "execution_count": null,
   "id": "52bc0371-3ab7-4993-b012-679663043516",
   "metadata": {},
   "outputs": [],
   "source": [
    "cellmap.view_surface_3D(adata, basis='X_tsne', cluster_key ='clusters', elev=50, azim=65)"
   ]
  },
  {
   "cell_type": "code",
   "execution_count": null,
   "id": "cc1c37d9-d424-4914-b07e-c7795003b1fe",
   "metadata": {},
   "outputs": [],
   "source": [
    "cellmap.view_surface_3D_cluster(adata, basis='X_tsne', cluster_key ='clusters',elev=50,azim=65,s=30);"
   ]
  },
  {
   "cell_type": "markdown",
   "id": "039e8f8b-41c3-4120-94cb-2f8dda6692bb",
   "metadata": {},
   "source": [
    "### Write expression and potential data as CSV file for **[CellMap viewer](https://github.com/yusuke-imoto-lab/CellMapViewer)**. "
   ]
  },
  {
   "cell_type": "code",
   "execution_count": null,
   "id": "2a683b40-76d6-4a9d-8cf7-52bfa92b1570",
   "metadata": {},
   "outputs": [],
   "source": [
    "cellmap.write(adata, basis='X_tsne', filename='CellMap_tutorial_hippocampus',expression_key='RECODE_log')"
   ]
  },
  {
   "cell_type": "markdown",
   "id": "679a6ed1-46fc-4547-8cd4-f4924a9fe3f1",
   "metadata": {},
   "source": [
    "## Changing parameter $\\alpha$\n",
    "\n",
    "The parameter $\\alpha$ adjust the rate of original/reduced dimensional information of gene expression and velocity. \n",
    "\n",
    "$\\alpha=0$ uses only two-dimensional inormation; in contrast, $\\alpha=1$ uses the original (non-dimensionaly reduction) information. "
   ]
  },
  {
   "cell_type": "code",
   "execution_count": null,
   "id": "b407c18d-bcda-4457-a137-fd32cd5713cc",
   "metadata": {},
   "outputs": [],
   "source": [
    "alpha_set = [0,0.5,1]\n",
    "for alpha in alpha_set:\n",
    "    cellmap.Hodge_decomposition(adata, exp_2d_key='X_tsne', vel_2d_key='velocity_tsne',potential_key='Hodge_potential_%0.1f' % alpha,alpha=alpha)\n",
    "adata"
   ]
  },
  {
   "cell_type": "code",
   "execution_count": null,
   "id": "cd48f8db-fcc2-4a29-b5d1-05649c5b6398",
   "metadata": {},
   "outputs": [],
   "source": [
    "for alpha in alpha_set:\n",
    "    cellmap.view(adata, basis='X_tsne', show_graph = True, potential_key='Hodge_potential_%0.1f' % alpha,cluster_key='clusters',title='alpha=%0.1f' % alpha,s=1)"
   ]
  },
  {
   "cell_type": "code",
   "execution_count": null,
   "id": "232b4e6a-fcd7-4599-8465-b0a6c1d07d5d",
   "metadata": {},
   "outputs": [],
   "source": [
    "for alpha in alpha_set:\n",
    "    cellmap.view_surface_3D(adata, basis='X_tsne', cluster_key ='clusters',potential_key='Hodge_potential_%0.1f' % alpha,elev=50,azim=65,title='alpha=%0.1f' % alpha)"
   ]
  },
  {
   "cell_type": "code",
   "execution_count": null,
   "id": "9d5ba097-4180-4985-b08e-6497a461516f",
   "metadata": {},
   "outputs": [],
   "source": []
  }
 ],
 "metadata": {
  "kernelspec": {
   "display_name": "Python 3 (ipykernel)",
   "language": "python",
   "name": "python3"
  },
  "language_info": {
   "codemirror_mode": {
    "name": "ipython",
    "version": 3
   },
   "file_extension": ".py",
   "mimetype": "text/x-python",
   "name": "python",
   "nbconvert_exporter": "python",
   "pygments_lexer": "ipython3",
   "version": "3.10.4"
  }
 },
 "nbformat": 4,
 "nbformat_minor": 5
}
