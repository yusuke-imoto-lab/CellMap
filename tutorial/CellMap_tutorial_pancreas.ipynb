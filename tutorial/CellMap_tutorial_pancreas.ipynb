{
 "cells": [
  {
   "cell_type": "markdown",
   "id": "537d2e5f-2008-406e-8b7a-edd2c6a455ec",
   "metadata": {},
   "source": [
    "# CellMap for pancreas endocrine cell data\n",
    "\n",
    "The tutorial for pancreas endocrine cell data ([Bastidas et al., 2019](https://doi.org/10.1242/dev.173849))."
   ]
  },
  {
   "cell_type": "markdown",
   "id": "0cacc376-83b1-4998-a2c5-47a196ad7f3a",
   "metadata": {},
   "source": [
    "## Regular procedure"
   ]
  },
  {
   "cell_type": "code",
   "execution_count": 1,
   "id": "105a2f01-a54a-4023-bb30-02d6b44ee342",
   "metadata": {},
   "outputs": [
    {
     "ename": "SyntaxError",
     "evalue": "invalid decimal literal (cellmap.py, line 265)",
     "output_type": "error",
     "traceback": [
      "Traceback \u001b[0;36m(most recent call last)\u001b[0m:\n",
      "  File \u001b[1;32m/usr/local/lib/python3.10/dist-packages/IPython/core/interactiveshell.py:3398\u001b[0m in \u001b[1;35mrun_code\u001b[0m\n    exec(code_obj, self.user_global_ns, self.user_ns)\n",
      "  Input \u001b[1;32mIn [1]\u001b[0m in \u001b[1;35m<cell line: 1>\u001b[0m\n    import cellmap\n",
      "\u001b[0;36m  File \u001b[0;32m~/.local/lib/python3.10/site-packages/cellmap/__init__.py:2\u001b[0;36m in \u001b[0;35m<module>\u001b[0;36m\u001b[0m\n\u001b[0;31m    from cellmap.cellmap import *\u001b[0m\n",
      "\u001b[0;36m  File \u001b[0;32m~/.local/lib/python3.10/site-packages/cellmap/cellmap.py:265\u001b[0;36m\u001b[0m\n\u001b[0;31m    >>>>>>> 987059fb20c7a26b8af350bfd55a5b8fbc5137fa\u001b[0m\n\u001b[0m                 ^\u001b[0m\n\u001b[0;31mSyntaxError\u001b[0m\u001b[0;31m:\u001b[0m invalid decimal literal\n"
     ]
    }
   ],
   "source": [
    "import cellmap\n",
    "import anndata\n",
    "import matplotlib.pyplot as plt\n",
    "import numpy as np\n",
    "import scanpy"
   ]
  },
  {
   "cell_type": "markdown",
   "id": "16ad3d41-387f-470e-9cbf-c1815490bd96",
   "metadata": {},
   "source": [
    "### The dataset is installed using the [scvelo](https://scvelo.readthedocs.io/en/stable/) package. "
   ]
  },
  {
   "cell_type": "code",
   "execution_count": null,
   "id": "0388f5b6-c127-4ae7-a331-9bb022b8f2dd",
   "metadata": {
    "tags": []
   },
   "outputs": [],
   "source": [
    "import scvelo as scv\n",
    "adata = scv.datasets.pancreas()\n",
    "adata"
   ]
  },
  {
   "cell_type": "markdown",
   "id": "df6272c4-c5fd-4a3b-acd7-2ad24e1b0a30",
   "metadata": {},
   "source": [
    "### Preprocessing the raw data"
   ]
  },
  {
   "cell_type": "code",
   "execution_count": null,
   "id": "ffca64ea-583d-489a-a57d-698d94cd2814",
   "metadata": {},
   "outputs": [],
   "source": [
    "scanpy.pp.normalize_total(adata, target_sum=1e4)\n",
    "scanpy.pp.log1p(adata)"
   ]
  },
  {
   "cell_type": "markdown",
   "id": "a50fe14c-b897-45fb-bb8f-18d8e2e32f36",
   "metadata": {},
   "source": [
    "### Apply RNA velocity and show the stream on UMAP"
   ]
  },
  {
   "cell_type": "code",
   "execution_count": null,
   "id": "9a095d61-e971-44cd-bc0d-ca57d08432f4",
   "metadata": {},
   "outputs": [],
   "source": [
    "scv.pp.filter_and_normalize(adata)\n",
    "scv.pp.moments(adata)\n",
    "scv.tl.velocity(adata,mode='stochastic')\n",
    "scv.tl.velocity_graph(adata)"
   ]
  },
  {
   "cell_type": "code",
   "execution_count": null,
   "id": "7c0068a6-f696-4be8-8df0-a1cd91504996",
   "metadata": {},
   "outputs": [],
   "source": [
    "scv.pl.velocity_embedding_stream(adata)"
   ]
  },
  {
   "cell_type": "markdown",
   "id": "18ddb47d-808a-41c3-8d42-8e580f8dd96f",
   "metadata": {},
   "source": [
    "### Compute Hodge potential"
   ]
  },
  {
   "cell_type": "code",
   "execution_count": null,
   "id": "e2112408-1e3c-4667-962e-9369a98a1f7e",
   "metadata": {
    "tags": []
   },
   "outputs": [],
   "source": [
    "%%time\n",
    "import cellmap\n",
    "\n",
    "cellmap.Hodge_decomposition(adata)\n",
    "cellmap.view(adata,show_graph = True,cluster_key = 'clusters')"
   ]
  },
  {
   "cell_type": "markdown",
   "id": "039091c0-7d38-4da7-ae75-cd69d8b3716c",
   "metadata": {},
   "source": [
    "### Views"
   ]
  },
  {
   "cell_type": "code",
   "execution_count": null,
   "id": "c384d37d-0184-4d27-aa7e-253c63ded3cb",
   "metadata": {},
   "outputs": [],
   "source": [
    "cellmap.view_cluster(adata, show_graph=True, cluster_key='clusters',s=50)"
   ]
  },
  {
   "cell_type": "code",
   "execution_count": null,
   "id": "c3e0f2e4-1938-4509-9d49-b14bbe6ab132",
   "metadata": {},
   "outputs": [],
   "source": [
    "cellmap.view_surface(adata,cluster_key ='clusters')"
   ]
  },
  {
   "cell_type": "code",
   "execution_count": null,
   "id": "52bc0371-3ab7-4993-b012-679663043516",
   "metadata": {},
   "outputs": [],
   "source": [
    "cellmap.view_surface_3D(adata,cluster_key ='clusters',elev=50,azim=65)"
   ]
  },
  {
   "cell_type": "code",
   "execution_count": null,
   "id": "cc1c37d9-d424-4914-b07e-c7795003b1fe",
   "metadata": {},
   "outputs": [],
   "source": [
    "cellmap.view_surface_3D_cluster(adata,cluster_key ='clusters',elev=50,azim=65,s=30);"
   ]
  },
  {
   "cell_type": "markdown",
   "id": "039e8f8b-41c3-4120-94cb-2f8dda6692bb",
   "metadata": {},
   "source": [
    "### Write expression and potential data as CSV file for **[CellMap viewer](https://github.com/yusuke-imoto-lab/CellMapViewer)**. "
   ]
  },
  {
   "cell_type": "code",
   "execution_count": null,
   "id": "2a683b40-76d6-4a9d-8cf7-52bfa92b1570",
   "metadata": {},
   "outputs": [],
   "source": [
    "cellmap.write(adata,filename='CellMap_tutorial_pancreas')"
   ]
  },
  {
   "cell_type": "markdown",
   "id": "679a6ed1-46fc-4547-8cd4-f4924a9fe3f1",
   "metadata": {},
   "source": [
    "## Changing parameter $\\alpha$\n",
    "\n",
    "The parameter $\\alpha$ adjust the rate of original/reduced dimensional information of gene expression and velocity. \n",
    "\n",
    "$\\alpha=0$ uses only two-dimensional inormation; in contrast, $\\alpha=1$ uses the original (non-dimensionaly reduction) information. "
   ]
  },
  {
   "cell_type": "code",
   "execution_count": null,
   "id": "b407c18d-bcda-4457-a137-fd32cd5713cc",
   "metadata": {},
   "outputs": [],
   "source": [
    "alpha_set = [0,0.5,1]\n",
    "for alpha in alpha_set:\n",
    "    cellmap.Hodge_decomposition(adata,potential_key='Hodge_potential_%0.1f' % alpha,alpha=alpha)\n",
    "adata"
   ]
  },
  {
   "cell_type": "code",
   "execution_count": null,
   "id": "cd48f8db-fcc2-4a29-b5d1-05649c5b6398",
   "metadata": {},
   "outputs": [],
   "source": [
    "for alpha in alpha_set:\n",
    "    cellmap.view(adata,show_graph = True,potential_key='Hodge_potential_%0.1f' % alpha,cluster_key='clusters',title='alpha=%0.1f' % alpha)"
   ]
  },
  {
   "cell_type": "code",
   "execution_count": null,
   "id": "232b4e6a-fcd7-4599-8465-b0a6c1d07d5d",
   "metadata": {},
   "outputs": [],
   "source": [
    "for alpha in alpha_set:\n",
    "    cellmap.view_surface_3D(adata,cluster_key ='clusters',potential_key='Hodge_potential_%0.1f' % alpha,elev=50,azim=65,title='alpha=%0.1f' % alpha)"
   ]
  },
  {
   "cell_type": "code",
   "execution_count": null,
   "id": "86d17c98-c352-46c5-84e6-98158dc2cf6a",
   "metadata": {},
   "outputs": [],
   "source": [
    "for alpha in alpha_set:\n",
    "    cellmap.Hodge_decomposition(adata,potential_key='Hodge_potential_knn_%0.1f' % alpha,alpha=alpha, graph_method='knn')\n",
    "    cellmap.view_surface_3D(adata,cluster_key ='clusters',potential_key='Hodge_potential_knn_%0.1f' % alpha,elev=50,azim=65,title='alpha=%0.1f' % alpha)"
   ]
  }
 ],
 "metadata": {
  "kernelspec": {
   "display_name": "Python 3 (ipykernel)",
   "language": "python",
   "name": "python3"
  },
  "language_info": {
   "codemirror_mode": {
    "name": "ipython",
    "version": 3
   },
   "file_extension": ".py",
   "mimetype": "text/x-python",
   "name": "python",
   "nbconvert_exporter": "python",
   "pygments_lexer": "ipython3",
   "version": "3.10.4"
  }
 },
 "nbformat": 4,
 "nbformat_minor": 5
}
