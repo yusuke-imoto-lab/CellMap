{
 "cells": [
  {
   "cell_type": "markdown",
   "id": "537d2e5f-2008-406e-8b7a-edd2c6a455ec",
   "metadata": {},
   "source": [
    "# CellMap for hippocampus cell data\n",
    "\n",
    "The tutorial for hippocampus cell data ([La Manno et al. (2018)](https://doi.org/10.1038/s41586-018-0414-6))."
   ]
  },
  {
   "cell_type": "markdown",
   "id": "0cacc376-83b1-4998-a2c5-47a196ad7f3a",
   "metadata": {},
   "source": [
    "## Regular procedure"
   ]
  },
  {
   "cell_type": "code",
   "execution_count": 1,
   "id": "105a2f01-a54a-4023-bb30-02d6b44ee342",
   "metadata": {},
   "outputs": [],
   "source": [
    "import cellmap\n",
    "import anndata\n",
    "import matplotlib.pyplot as plt\n",
    "import numpy as np\n",
    "import scanpy"
   ]
  },
  {
   "cell_type": "markdown",
   "id": "16ad3d41-387f-470e-9cbf-c1815490bd96",
   "metadata": {},
   "source": [
    "The dataset is installed using the [scvelo](https://scvelo.readthedocs.io/en/stable/) package. "
   ]
  },
  {
   "cell_type": "code",
   "execution_count": 2,
   "id": "0388f5b6-c127-4ae7-a331-9bb022b8f2dd",
   "metadata": {
    "tags": []
   },
   "outputs": [
    {
     "data": {
      "text/plain": [
       "AnnData object with n_obs × n_vars = 18213 × 27998\n",
       "    obs: 'Age', 'clusters'\n",
       "    var: 'Accession', 'Chromosome', 'End', 'Start', 'Strand'\n",
       "    uns: 'clusters_colors'\n",
       "    obsm: 'X_tsne'\n",
       "    layers: 'ambiguous', 'matrix', 'spliced', 'unspliced'"
      ]
     },
     "execution_count": 2,
     "metadata": {},
     "output_type": "execute_result"
    }
   ],
   "source": [
    "import scvelo as scv\n",
    "adata = scv.datasets.dentategyrus_lamanno()\n",
    "adata"
   ]
  },
  {
   "cell_type": "markdown",
   "id": "df6272c4-c5fd-4a3b-acd7-2ad24e1b0a30",
   "metadata": {},
   "source": [
    "Preprocessing the raw data"
   ]
  },
  {
   "cell_type": "code",
   "execution_count": 3,
   "id": "ffca64ea-583d-489a-a57d-698d94cd2814",
   "metadata": {},
   "outputs": [],
   "source": [
    "scanpy.pp.log1p(adata)"
   ]
  },
  {
   "cell_type": "markdown",
   "id": "a50fe14c-b897-45fb-bb8f-18d8e2e32f36",
   "metadata": {},
   "source": [
    "Compute velocity and show the stream on UMAP. "
   ]
  },
  {
   "cell_type": "code",
   "execution_count": null,
   "id": "9a095d61-e971-44cd-bc0d-ca57d08432f4",
   "metadata": {},
   "outputs": [
    {
     "name": "stdout",
     "output_type": "stream",
     "text": [
      "WARNING: Did not normalize X as it looks processed already. To enforce normalization, set `enforce=True`.\n",
      "Normalized count data: spliced, unspliced.\n",
      "WARNING: Did not modify X as it looks preprocessed already.\n",
      "computing neighbors\n"
     ]
    },
    {
     "name": "stderr",
     "output_type": "stream",
     "text": [
      "2023-03-31 15:34:08.659570: I tensorflow/core/util/port.cc:110] oneDNN custom operations are on. You may see slightly different numerical results due to floating-point round-off errors from different computation orders. To turn them off, set the environment variable `TF_ENABLE_ONEDNN_OPTS=0`.\n",
      "2023-03-31 15:34:08.662354: I tensorflow/tsl/cuda/cudart_stub.cc:28] Could not find cuda drivers on your machine, GPU will not be used.\n",
      "2023-03-31 15:34:08.716208: I tensorflow/tsl/cuda/cudart_stub.cc:28] Could not find cuda drivers on your machine, GPU will not be used.\n",
      "2023-03-31 15:34:08.717606: I tensorflow/core/platform/cpu_feature_guard.cc:182] This TensorFlow binary is optimized to use available CPU instructions in performance-critical operations.\n",
      "To enable the following instructions: AVX2 AVX512F AVX512_VNNI FMA, in other operations, rebuild TensorFlow with the appropriate compiler flags.\n",
      "2023-03-31 15:34:09.797346: W tensorflow/compiler/tf2tensorrt/utils/py_utils.cc:38] TF-TRT Warning: Could not find TensorRT\n"
     ]
    },
    {
     "name": "stdout",
     "output_type": "stream",
     "text": [
      "    finished (0:00:37) --> added \n",
      "    'distances' and 'connectivities', weighted adjacency matrices (adata.obsp)\n",
      "computing moments based on connectivities\n",
      "    finished (0:00:34) --> added \n",
      "    'Ms' and 'Mu', moments of un/spliced abundances (adata.layers)\n",
      "computing velocities\n",
      "    finished (0:00:55) --> added \n",
      "    'velocity', velocity vectors for each individual cell (adata.layers)\n",
      "computing velocity graph (using 1/8 cores)\n"
     ]
    },
    {
     "data": {
      "application/vnd.jupyter.widget-view+json": {
       "model_id": "b95b848ccae54b70a4afd504de16d7e2",
       "version_major": 2,
       "version_minor": 0
      },
      "text/plain": [
       "  0%|          | 0/18213 [00:00<?, ?cells/s]"
      ]
     },
     "metadata": {},
     "output_type": "display_data"
    }
   ],
   "source": [
    "scv.pp.filter_and_normalize(adata)\n",
    "scv.pp.moments(adata)\n",
    "scv.tl.velocity(adata,mode='stochastic')\n",
    "scv.tl.velocity_graph(adata)"
   ]
  },
  {
   "cell_type": "code",
   "execution_count": null,
   "id": "7c0068a6-f696-4be8-8df0-a1cd91504996",
   "metadata": {},
   "outputs": [],
   "source": [
    "scv.pl.velocity_embedding_stream(adata)"
   ]
  },
  {
   "cell_type": "code",
   "execution_count": null,
   "id": "e2112408-1e3c-4667-962e-9369a98a1f7e",
   "metadata": {
    "tags": []
   },
   "outputs": [],
   "source": [
    "%%time\n",
    "import cellmap\n",
    "\n",
    "cellmap.Hodge_decomposition(adata, exp_2d_key='X_tsne', vel_2d_key='velocity_tsne', alpha=0.1)"
   ]
  },
  {
   "cell_type": "code",
   "execution_count": null,
   "id": "54d8d93d-2ec8-4428-91a2-587e64702208",
   "metadata": {},
   "outputs": [],
   "source": [
    "cellmap.view(adata, basis='X_tsne', show_graph = True, cluster_key='clusters', cmap='jet')"
   ]
  },
  {
   "cell_type": "code",
   "execution_count": null,
   "id": "c384d37d-0184-4d27-aa7e-253c63ded3cb",
   "metadata": {},
   "outputs": [],
   "source": [
    "cellmap.view_cluster(adata, basis='X_tsne', show_graph=True, cluster_key='clusters', s=50,cmap='jet')"
   ]
  },
  {
   "cell_type": "code",
   "execution_count": null,
   "id": "c3e0f2e4-1938-4509-9d49-b14bbe6ab132",
   "metadata": {},
   "outputs": [],
   "source": [
    "cellmap.view_surface(adata, basis='X_tsne', cluster_key ='clusters',cmap='jet')"
   ]
  },
  {
   "cell_type": "code",
   "execution_count": null,
   "id": "52bc0371-3ab7-4993-b012-679663043516",
   "metadata": {},
   "outputs": [],
   "source": [
    "cellmap.view_surface_3D(adata, basis='X_tsne', cluster_key ='clusters', elev=50, azim=65)"
   ]
  },
  {
   "cell_type": "code",
   "execution_count": null,
   "id": "cc1c37d9-d424-4914-b07e-c7795003b1fe",
   "metadata": {},
   "outputs": [],
   "source": [
    "cellmap.view_surface_3D_cluster(adata, basis='X_tsne', cluster_key ='clusters',elev=50,azim=65,s=30);"
   ]
  },
  {
   "cell_type": "markdown",
   "id": "039e8f8b-41c3-4120-94cb-2f8dda6692bb",
   "metadata": {},
   "source": [
    "### Write expression and potential data as CSV file for **[CellMap viewer](https://github.com/yusuke-imoto-lab/CellMapViewer)**. "
   ]
  },
  {
   "cell_type": "code",
   "execution_count": null,
   "id": "2a683b40-76d6-4a9d-8cf7-52bfa92b1570",
   "metadata": {},
   "outputs": [],
   "source": [
    "cellmap.write(adata, basis='X_tsne', filename='CellMap_tutorial_hippocampus',genes=['Aqp4','Aldoc','Cdk1','Mki67','Eomes','Neurod2'])"
   ]
  },
  {
   "cell_type": "markdown",
   "id": "679a6ed1-46fc-4547-8cd4-f4924a9fe3f1",
   "metadata": {},
   "source": [
    "## Changing parameter $\\alpha$\n",
    "\n",
    "The parameter $\\alpha$ adjust the rate of original/reduced dimensional information of gene expression and velocity. \n",
    "\n",
    "$\\alpha=0$ uses only two-dimensional inormation; in contrast, $\\alpha=1$ uses the original (non-dimensionaly reduction) information. "
   ]
  },
  {
   "cell_type": "code",
   "execution_count": null,
   "id": "b407c18d-bcda-4457-a137-fd32cd5713cc",
   "metadata": {},
   "outputs": [],
   "source": [
    "alpha_set = [0,0.5,1]\n",
    "for alpha in alpha_set:\n",
    "    cellmap.Hodge_decomposition(adata, exp_2d_key='X_tsne', vel_2d_key='velocity_tsne',potential_key='Hodge_potential_%0.1f' % alpha,alpha=alpha)\n",
    "adata"
   ]
  },
  {
   "cell_type": "code",
   "execution_count": null,
   "id": "cd48f8db-fcc2-4a29-b5d1-05649c5b6398",
   "metadata": {},
   "outputs": [],
   "source": [
    "for alpha in alpha_set:\n",
    "    cellmap.view(adata, basis='X_tsne', show_graph = True, potential_key='Hodge_potential_%0.1f' % alpha,cluster_key='clusters',title='alpha=%0.1f' % alpha,s=1)"
   ]
  },
  {
   "cell_type": "code",
   "execution_count": null,
   "id": "232b4e6a-fcd7-4599-8465-b0a6c1d07d5d",
   "metadata": {},
   "outputs": [],
   "source": [
    "for alpha in alpha_set:\n",
    "    cellmap.view_surface_3D(adata, basis='X_tsne', cluster_key ='clusters',potential_key='Hodge_potential_%0.1f' % alpha,elev=50,azim=65,title='alpha=%0.1f' % alpha)"
   ]
  },
  {
   "cell_type": "code",
   "execution_count": null,
   "id": "9d5ba097-4180-4985-b08e-6497a461516f",
   "metadata": {},
   "outputs": [],
   "source": []
  }
 ],
 "metadata": {
  "kernelspec": {
   "display_name": "Python 3 (ipykernel)",
   "language": "python",
   "name": "python3"
  },
  "language_info": {
   "codemirror_mode": {
    "name": "ipython",
    "version": 3
   },
   "file_extension": ".py",
   "mimetype": "text/x-python",
   "name": "python",
   "nbconvert_exporter": "python",
   "pygments_lexer": "ipython3",
   "version": "3.10.4"
  }
 },
 "nbformat": 4,
 "nbformat_minor": 5
}
